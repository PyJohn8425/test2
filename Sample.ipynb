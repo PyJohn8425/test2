{
 "cells": [
  {
   "cell_type": "markdown",
   "id": "cf415fc6-ec06-40e5-a524-63a5513e58f9",
   "metadata": {},
   "source": [
    "## This sis the notebool for testing and learning "
   ]
  },
  {
   "cell_type": "markdown",
   "id": "e579b34c-81cb-4cff-865e-319d6a25f798",
   "metadata": {},
   "source": [
    "How we do some arithmetic calculations, e.g. 1+1"
   ]
  },
  {
   "cell_type": "code",
   "execution_count": 1,
   "id": "c9701a49-c2a2-48c0-8ab8-48f59cc8dac3",
   "metadata": {},
   "outputs": [
    {
     "data": {
      "text/plain": [
       "2"
      ]
     },
     "execution_count": 1,
     "metadata": {},
     "output_type": "execute_result"
    }
   ],
   "source": [
    "1+1"
   ]
  },
  {
   "cell_type": "code",
   "execution_count": null,
   "id": "9538736d-edfa-4832-9f72-b33df90226b7",
   "metadata": {},
   "outputs": [],
   "source": []
  }
 ],
 "metadata": {
  "kernelspec": {
   "display_name": "Python 3 (ipykernel)",
   "language": "python",
   "name": "python3"
  },
  "language_info": {
   "codemirror_mode": {
    "name": "ipython",
    "version": 3
   },
   "file_extension": ".py",
   "mimetype": "text/x-python",
   "name": "python",
   "nbconvert_exporter": "python",
   "pygments_lexer": "ipython3",
   "version": "3.9.13"
  }
 },
 "nbformat": 4,
 "nbformat_minor": 5
}
